{
 "cells": [
  {
   "cell_type": "code",
   "execution_count": 1,
   "metadata": {},
   "outputs": [],
   "source": [
    "from preprocessing import Preprocessor\n",
    "from training import Trainer, Metrics\n",
    "import torch.nn as nn\n",
    "import torch.optim as optim\n",
    "from models.first_CNN import firstCNN"
   ]
  },
  {
   "cell_type": "code",
   "execution_count": 2,
   "metadata": {},
   "outputs": [],
   "source": [
    "years = [str(y) for y in range(2006, 2007)]\n",
    "pp = Preprocessor(years, ignored_classes=['mix','detritus'])\n"
   ]
  },
  {
   "cell_type": "code",
   "execution_count": 3,
   "metadata": {},
   "outputs": [],
   "source": [
    "pp.create_datasets([0.6,0.2,0.2])"
   ]
  },
  {
   "cell_type": "code",
   "execution_count": 4,
   "metadata": {},
   "outputs": [],
   "source": [
    "trainLoader = pp.get_loaders('train', 128)\n",
    "validLoader = pp.get_loaders('validation', 128)"
   ]
  },
  {
   "cell_type": "code",
   "execution_count": 5,
   "metadata": {},
   "outputs": [],
   "source": [
    "trainer = Trainer(epochs = 10, loss_fn = nn.MSELoss, optimizer = optim.SGD, lr = 0.01, momentum = 0.9, useCuda=True)"
   ]
  },
  {
   "cell_type": "code",
   "execution_count": 6,
   "metadata": {},
   "outputs": [],
   "source": [
    "model = firstCNN()"
   ]
  },
  {
   "cell_type": "code",
   "execution_count": null,
   "metadata": {},
   "outputs": [
    {
     "name": "stderr",
     "output_type": "stream",
     "text": [
      "/userhome/30/smaghani/URFP/models/first_CNN.py:56: UserWarning: Implicit dimension choice for softmax has been deprecated. Change the call to include dim=X as an argument.\n",
      "  x = self.softmax(x)\n"
     ]
    },
    {
     "name": "stdout",
     "output_type": "stream",
     "text": [
      "Training Loss: 0.011485583148896694\n",
      "Training Accuracy: 0.0026718123793973577\n",
      "Valid Accuracy: 0.0010390381475434169\n",
      "~~~~~~~~~~~~~~~~~~~~~~~~~~~~~~~~~~~~~~~~\n",
      "Training Loss: 0.01148644182831049\n",
      "Training Accuracy: 0.0023749443372420957\n",
      "Valid Accuracy: 0.001929642274009203\n",
      "~~~~~~~~~~~~~~~~~~~~~~~~~~~~~~~~~~~~~~~~\n",
      "Training Loss: 0.011488550342619419\n",
      "Training Accuracy: 0.002523378358319727\n",
      "Valid Accuracy: 0.001929642274009203\n",
      "~~~~~~~~~~~~~~~~~~~~~~~~~~~~~~~~~~~~~~~~\n",
      "Training Loss: 0.011487672105431557\n",
      "Training Accuracy: 0.002424422344267973\n",
      "Valid Accuracy: 0.001929642274009203\n",
      "~~~~~~~~~~~~~~~~~~~~~~~~~~~~~~~~~~~~~~~~\n",
      "Training Loss: 0.011487300507724285\n",
      "Training Accuracy: 0.002820246400474989\n",
      "Valid Accuracy: 0.0023749443372420957\n",
      "~~~~~~~~~~~~~~~~~~~~~~~~~~~~~~~~~~~~~~~~\n"
     ]
    }
   ],
   "source": [
    "trainer.train(model, trainLoader, validLoader)\n",
    "\n",
    "# - or -\n",
    "\n",
    "#model = trainer.load_full_model(model, \"./models/firstCNN-1.0.pth\")"
   ]
  },
  {
   "cell_type": "code",
   "execution_count": null,
   "metadata": {},
   "outputs": [],
   "source": [
    "testLoader = pp.get_loaders('test', 128)\n",
    "pred, target = trainer.test(model, testLoader)"
   ]
  },
  {
   "cell_type": "code",
   "execution_count": 8,
   "metadata": {},
   "outputs": [],
   "source": [
    "met = Metrics(target, pred)\n",
    "met.accuracy()\n",
    "met.recall()\n",
    "met.f_score()\n",
    "met.plot_CM()"
   ]
  }
 ],
 "metadata": {
  "kernelspec": {
   "display_name": "Python 3",
   "language": "python",
   "name": "python3"
  },
  "language_info": {
   "codemirror_mode": {
    "name": "ipython",
    "version": 3
   },
   "file_extension": ".py",
   "mimetype": "text/x-python",
   "name": "python",
   "nbconvert_exporter": "python",
   "pygments_lexer": "ipython3",
   "version": "3.7.3"
  }
 },
 "nbformat": 4,
 "nbformat_minor": 2
}

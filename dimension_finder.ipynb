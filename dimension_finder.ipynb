{
 "cells": [
  {
   "cell_type": "code",
   "execution_count": 2,
   "metadata": {},
   "outputs": [
    {
     "name": "stdout",
     "output_type": "stream",
     "text": [
      "#############################\n"
     ]
    },
    {
     "data": {
      "text/plain": [
       "<Figure size 640x480 with 1 Axes>"
      ]
     },
     "metadata": {},
     "output_type": "display_data"
    }
   ],
   "source": [
    "import os\n",
    "from PIL import Image\n",
    "import matplotlib.pyplot as plt\n",
    "\n",
    "data_folder = \"data\"\n",
    "years = [str(i) for i in range(2014, 2015)]\n",
    "class_names = [\"Akashiwo\", \"Amphidinium sp\", \"Chrysochromulina\", \"Cochlodinium\", \n",
    "    \"Dinophysis\", \"Gonyaulax\", \"Guinardia_delicatula\", \"Guinardia_striata\", \"Gyrodinium\", \n",
    "    \"Heterocapsa_triquetra\", \"Karenia\", \"Phaeocystis\", \"Prorocentrum\", \"Pseudochattonella_farcimen\", \n",
    "    \"non-HAB-causing\"]\n",
    "\n",
    "ignored_classes = [\"Chaetoceros_other\", \"diatom_flagellate\", \"G_delicatula_detritus\", \n",
    "    \"other_interaction\", \"pennates_on_diatoms\"]\n",
    "\n",
    "\n",
    "class_stats = {c_name:{ year:[0] for year in years} for c_name in class_names}\n",
    "\n",
    "#another approach is to get all classes and get its stats\n",
    "all_classes = [name for name in os.listdir(data_folder+\"/\"+years[0]) if os.path.isdir(data_folder+\"/\"+years[0]+\"/\"+name)]\n",
    "classB_stats = {name: {year: [0] for year in years} for name in all_classes}\n",
    "\n",
    "image_stats = {}\n",
    "\n",
    "for year in years:\n",
    "    data_path = data_folder+\"/\"+year\n",
    "\n",
    "    if os.path.isdir(data_path):\n",
    "        non_hab_causing = [0]\n",
    "        for class_name in os.listdir(data_path):\n",
    "            if class_name in ignored_classes:\n",
    "                continue\n",
    "            c_path = data_path + \"/\"+class_name\n",
    "\n",
    "\n",
    "            if os.path.isdir(c_path):\n",
    "                image_files = [x for x in os.listdir(c_path) if \".png\" in x]\n",
    "\n",
    "                for img in image_files:\n",
    "                    im = Image.open(c_path + \"/\" + img)\n",
    "                    width, height = im.size\n",
    "                    if (width, height) not in image_stats:\n",
    "                        image_stats[(width, height)] = 0\n",
    "                    image_stats[(width, height)] += 1\n",
    "\n",
    "\n",
    "\n",
    "print(\"#############################\")\n",
    "xc = [x[0] for x in image_stats.keys()]\n",
    "yc = [y[1] for y in image_stats.keys()]\n",
    "fig = plt.figure()\n",
    "plt.scatter(xc, yc, s=list(image_stats.values()))\n",
    "plt.show()\n",
    "\n",
    "#fig.tight_layout()\n",
    "#plt.savefig('output.png', dpi=300)"
   ]
  },
  {
   "cell_type": "code",
   "execution_count": 3,
   "metadata": {},
   "outputs": [
    {
     "name": "stdout",
     "output_type": "stream",
     "text": [
      "255.0 120.0\n"
     ]
    }
   ],
   "source": [
    "import numpy as np\n",
    "xmed = np.median(xc)\n",
    "ymed = np.median(yc)\n",
    "print(xmed, ymed)"
   ]
  },
  {
   "cell_type": "code",
   "execution_count": 5,
   "metadata": {},
   "outputs": [
    {
     "name": "stdout",
     "output_type": "stream",
     "text": [
      "96 20\n"
     ]
    }
   ],
   "source": [
    "xmin = np.amin(xc)\n",
    "ymin = np.amin(yc)\n",
    "print(xmin, ymin)"
   ]
  },
  {
   "cell_type": "code",
   "execution_count": null,
   "metadata": {},
   "outputs": [],
   "source": []
  }
 ],
 "metadata": {
  "kernelspec": {
   "display_name": "Python 3",
   "language": "python",
   "name": "python3"
  },
  "language_info": {
   "codemirror_mode": {
    "name": "ipython",
    "version": 3
   },
   "file_extension": ".py",
   "mimetype": "text/x-python",
   "name": "python",
   "nbconvert_exporter": "python",
   "pygments_lexer": "ipython3",
   "version": "3.7.3"
  }
 },
 "nbformat": 4,
 "nbformat_minor": 2
}

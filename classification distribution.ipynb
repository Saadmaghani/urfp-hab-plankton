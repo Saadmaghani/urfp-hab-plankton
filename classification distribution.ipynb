{
 "cells": [
  {
   "cell_type": "code",
   "execution_count": 3,
   "metadata": {},
   "outputs": [],
   "source": [
    "from metrics import Metrics, load_json_from_file\n",
    "from preprocessing import Preprocessor\n",
    "from configuration import Hyperparameters as HP"
   ]
  },
  {
   "cell_type": "code",
   "execution_count": 4,
   "metadata": {},
   "outputs": [
    {
     "name": "stdout",
     "output_type": "stream",
     "text": [
      "777655\n",
      "29983\n",
      "29983\n"
     ]
    }
   ],
   "source": [
    "years = [str(y) for y in range(2006, 2015)]\n",
    "\n",
    "classes_30 = [\"Asterionellopsis\", \"bad\", \"Chaetoceros\", \"Chaetoceros_flagellate\", \"Ciliate_mix\", \"Corethron\", \"Cylindrotheca\", \"Dictyocha\",\"dino30\", \"detritus\",\n",
    "\t\"Dinobryon\", \"Ditylum\", \"Eucampia\", \"flagellate_sp3\", \"Guinardia_delicatula\", \"Guinardia_flaccida\", \"Guinardia_striata\", \"Heterocapsa_triquetra\", \"Laboea_strobila\", \"Leptocylindrus\",\n",
    "\t\"pennate\", \"Phaeocystis\", \"Pleurosigma\", \"Prorocentrum\", \"Pseudonitzschia\", \"Skeletonema\", \"Thalassionema\", \"Thalassiosira\", \"Thalassiosira_dirty\", \"Tintinnid\"]\n",
    "\n",
    "\n",
    "gnet_12_52 = load_json_from_file(\"stats-GoogleNet_1.2-5.2.json\")\n",
    "pp = Preprocessor(years, include_classes=classes_30, train_eg_per_class=HP.number_of_images_per_class, thresholding=HP.thresholding, maxN = HP.maxN)"
   ]
  },
  {
   "cell_type": "code",
   "execution_count": null,
   "metadata": {},
   "outputs": [],
   "source": []
  },
  {
   "cell_type": "code",
   "execution_count": null,
   "metadata": {},
   "outputs": [],
   "source": []
  },
  {
   "cell_type": "code",
   "execution_count": 3,
   "metadata": {},
   "outputs": [],
   "source": [
    "gnet_12_52[\"Pred\"] = []\n",
    "gnet_12_52[\"Target\"] = []\n",
    "\n",
    "gnet_12_52[\"Pred\"].extend(gnet_12_52['Train_Pred'])\n",
    "gnet_12_52[\"Pred\"].extend(gnet_12_52['Valid_Pred'])\n",
    "gnet_12_52[\"Pred\"].extend(gnet_12_52['Test_Pred'])\n",
    "\n",
    "gnet_12_52[\"Target\"].extend(gnet_12_52['Train_Target'])\n",
    "gnet_12_52[\"Target\"].extend(gnet_12_52['Valid_Target'])\n",
    "gnet_12_52[\"Target\"].extend(gnet_12_52['Test_Target'])"
   ]
  },
  {
   "cell_type": "code",
   "execution_count": null,
   "metadata": {},
   "outputs": [],
   "source": []
  },
  {
   "cell_type": "code",
   "execution_count": 4,
   "metadata": {},
   "outputs": [],
   "source": [
    "trainM = Metrics(gnet_12_52[\"Train_Target\"], gnet_12_52[\"Train_Pred\"])\n",
    "validM = Metrics(gnet_12_52[\"Valid_Target\"], gnet_12_52[\"Valid_Pred\"])\n",
    "testM = Metrics(gnet_12_52[\"Test_Target\"], gnet_12_52[\"Test_Pred\"])\n",
    "allM = Metrics(gnet_12_52[\"Target\"], gnet_12_52[\"Pred\"])\n"
   ]
  },
  {
   "cell_type": "code",
   "execution_count": 5,
   "metadata": {},
   "outputs": [
    {
     "name": "stdout",
     "output_type": "stream",
     "text": [
      "0.9997999699954994\n",
      "0.951392708906336\n",
      "0.949642446366955\n",
      "0.9800870130519578\n",
      "0.9997999699954994 0.951392708906336 0.949642446366955 0.9800870130519578\n"
     ]
    }
   ],
   "source": [
    "print(trainM.accuracy(), validM.accuracy(), testM.accuracy(), allM.accuracy())"
   ]
  },
  {
   "cell_type": "code",
   "execution_count": 7,
   "metadata": {},
   "outputs": [
    {
     "name": "stderr",
     "output_type": "stream",
     "text": [
      "/Users/saadghani/Development/miniconda3/envs/URFP_Plankton/lib/python3.7/site-packages/sklearn/metrics/classification.py:1437: UndefinedMetricWarning: Precision and F-score are ill-defined and being set to 0.0 in labels with no predicted samples.\n",
      "  'precision', 'predicted', average, warn_for)\n"
     ]
    },
    {
     "data": {
      "text/plain": [
       "{'0': {'precision': 0.8928571428571429,\n",
       "  'recall': 0.5813953488372093,\n",
       "  'f1-score': 0.7042253521126761,\n",
       "  'support': 43},\n",
       " '1': {'precision': 0.8817114093959731,\n",
       "  'recall': 0.8787625418060201,\n",
       "  'f1-score': 0.8802345058626465,\n",
       "  'support': 1196},\n",
       " '2': {'precision': 0.0, 'recall': 0.0, 'f1-score': 0.0, 'support': 5},\n",
       " '3': {'precision': 0.9725274725274725,\n",
       "  'recall': 0.9365079365079365,\n",
       "  'f1-score': 0.954177897574124,\n",
       "  'support': 378},\n",
       " '4': {'precision': 0.9938271604938271,\n",
       "  'recall': 0.9640718562874252,\n",
       "  'f1-score': 0.9787234042553192,\n",
       "  'support': 167},\n",
       " '5': {'precision': 0.9802867383512545,\n",
       "  'recall': 0.9767857142857143,\n",
       "  'f1-score': 0.9785330948121646,\n",
       "  'support': 560},\n",
       " '6': {'precision': 0.9516129032258065,\n",
       "  'recall': 0.8676470588235294,\n",
       "  'f1-score': 0.9076923076923077,\n",
       "  'support': 68},\n",
       " '7': {'precision': 0.97,\n",
       "  'recall': 0.9748743718592965,\n",
       "  'f1-score': 0.9724310776942355,\n",
       "  'support': 199},\n",
       " '8': {'precision': 0.9774436090225563,\n",
       "  'recall': 0.9558823529411765,\n",
       "  'f1-score': 0.966542750929368,\n",
       "  'support': 136},\n",
       " '9': {'precision': 0.8125,\n",
       "  'recall': 0.8813559322033898,\n",
       "  'f1-score': 0.8455284552845529,\n",
       "  'support': 59},\n",
       " '10': {'precision': 0.9639830508474576,\n",
       "  'recall': 0.9498956158663883,\n",
       "  'f1-score': 0.9568874868559412,\n",
       "  'support': 958},\n",
       " '11': {'precision': 0.9285714285714286,\n",
       "  'recall': 0.7647058823529411,\n",
       "  'f1-score': 0.8387096774193549,\n",
       "  'support': 34},\n",
       " '12': {'precision': 0.9047619047619048,\n",
       "  'recall': 0.8260869565217391,\n",
       "  'f1-score': 0.8636363636363636,\n",
       "  'support': 92},\n",
       " '13': {'precision': 0.7058823529411765,\n",
       "  'recall': 0.631578947368421,\n",
       "  'f1-score': 0.6666666666666667,\n",
       "  'support': 38},\n",
       " '14': {'precision': 0.9772727272727273,\n",
       "  'recall': 0.8775510204081632,\n",
       "  'f1-score': 0.9247311827956989,\n",
       "  'support': 49},\n",
       " '15': {'precision': 0.9570115624073525,\n",
       "  'recall': 0.9841463414634146,\n",
       "  'f1-score': 0.9703892980610251,\n",
       "  'support': 3280},\n",
       " '16': {'precision': 0.8444444444444444,\n",
       "  'recall': 0.8260869565217391,\n",
       "  'f1-score': 0.8351648351648352,\n",
       "  'support': 46},\n",
       " '17': {'precision': 0.890625,\n",
       "  'recall': 0.9661016949152542,\n",
       "  'f1-score': 0.9268292682926829,\n",
       "  'support': 59},\n",
       " '18': {'precision': 0.9285714285714286,\n",
       "  'recall': 0.9578947368421052,\n",
       "  'f1-score': 0.9430051813471502,\n",
       "  'support': 95},\n",
       " '19': {'precision': 0.8023255813953488,\n",
       "  'recall': 0.6272727272727273,\n",
       "  'f1-score': 0.7040816326530612,\n",
       "  'support': 110},\n",
       " '20': {'precision': 0.9419953596287703,\n",
       "  'recall': 0.8845315904139434,\n",
       "  'f1-score': 0.9123595505617977,\n",
       "  'support': 459},\n",
       " '21': {'precision': 0.9370629370629371,\n",
       "  'recall': 0.9241379310344827,\n",
       "  'f1-score': 0.9305555555555555,\n",
       "  'support': 145},\n",
       " '22': {'precision': 0.8268551236749117,\n",
       "  'recall': 0.7476038338658147,\n",
       "  'f1-score': 0.7852348993288591,\n",
       "  'support': 313},\n",
       " '23': {'precision': 0.75,\n",
       "  'recall': 0.43636363636363634,\n",
       "  'f1-score': 0.5517241379310345,\n",
       "  'support': 55},\n",
       " '24': {'precision': 0.9041095890410958,\n",
       "  'recall': 0.8918918918918919,\n",
       "  'f1-score': 0.8979591836734694,\n",
       "  'support': 74},\n",
       " '25': {'precision': 0.9563636363636364,\n",
       "  'recall': 0.9293286219081273,\n",
       "  'f1-score': 0.942652329749104,\n",
       "  'support': 283},\n",
       " '26': {'precision': 0.9657814096016343,\n",
       "  'recall': 0.9752449716348633,\n",
       "  'f1-score': 0.970490120605594,\n",
       "  'support': 9695},\n",
       " '27': {'precision': 0.9178082191780822,\n",
       "  'recall': 0.9267697314890154,\n",
       "  'f1-score': 0.9222672064777327,\n",
       "  'support': 1229},\n",
       " '28': {'precision': 0.8333333333333334,\n",
       "  'recall': 0.8695652173913043,\n",
       "  'f1-score': 0.851063829787234,\n",
       "  'support': 46},\n",
       " '29': {'precision': 0.7966101694915254,\n",
       "  'recall': 0.746031746031746,\n",
       "  'f1-score': 0.7704918032786885,\n",
       "  'support': 126},\n",
       " 'accuracy': 0.949642446366955,\n",
       " 'macro avg': {'precision': 0.8722045231487743,\n",
       "  'recall': 0.825335772170314,\n",
       "  'f1-score': 0.8450996352019746,\n",
       "  'support': 19997},\n",
       " 'weighted avg': {'precision': 0.9486299334290229,\n",
       "  'recall': 0.949642446366955,\n",
       "  'f1-score': 0.9487268628279986,\n",
       "  'support': 19997}}"
      ]
     },
     "execution_count": 7,
     "metadata": {},
     "output_type": "execute_result"
    }
   ],
   "source": [
    "testM.class_accuracies()"
   ]
  },
  {
   "cell_type": "code",
   "execution_count": null,
   "metadata": {},
   "outputs": [],
   "source": []
  },
  {
   "cell_type": "code",
   "execution_count": null,
   "metadata": {},
   "outputs": [],
   "source": []
  }
 ],
 "metadata": {
  "kernelspec": {
   "display_name": "Python 3",
   "language": "python",
   "name": "python3"
  },
  "language_info": {
   "codemirror_mode": {
    "name": "ipython",
    "version": 3
   },
   "file_extension": ".py",
   "mimetype": "text/x-python",
   "name": "python",
   "nbconvert_exporter": "python",
   "pygments_lexer": "ipython3",
   "version": "3.5.6"
  }
 },
 "nbformat": 4,
 "nbformat_minor": 2
}

{
 "cells": [
  {
   "cell_type": "code",
   "execution_count": 2,
   "metadata": {},
   "outputs": [],
   "source": [
    "import torch\n",
    "from preprocessing import Preprocessor\n",
    "from training import Trainer, load_partial_model, load_full_model\n",
    "from metrics import Metrics\n",
    "import torch.nn as nn\n",
    "import torch.optim as optim\n",
    "#from models.triple_arch import N_Parallel_Models\n",
    "from models.vgg_TL import GoogleNet\n",
    "#from models.autoencoders import Simple_AE, CNN_VAE\n",
    "from configuration import Hyperparameters as HP\n",
    "import json\n",
    "import math\n",
    "import tabulate\n",
    "\n",
    "years = [str(y) for y in range(2006, 2015)]\n",
    "\n",
    "classes_30_cf = [\"Asterionellopsis\", \"bad\", \"Chaetoceros\", \"Ciliate_mix\", \"Corethron\", \"Cylindrotheca\", \"Dictyocha\",\"dino30\", \"detritus\", \n",
    "    \"Chaetoceros_flagellate\", \"Dinobryon\", \"Ditylum\", \"Eucampia\", \"flagellate_sp3\", \"Guinardia_delicatula\", \"Guinardia_flaccida\", \"Guinardia_striata\",\n",
    "    \"Heterocapsa_triquetra\", \"Laboea_strobila\", \"Leptocylindrus\",\"pennate\", \"Phaeocystis\", \"Pleurosigma\", \"Prorocentrum\", \"Pseudonitzschia\", \n",
    "    \"Skeletonema\", \"Thalassionema\", \"Thalassiosira\", \"Thalassiosira_dirty\", \"Tintinnid\"]\n"
   ]
  },
  {
   "cell_type": "code",
   "execution_count": 3,
   "metadata": {},
   "outputs": [
    {
     "name": "stdout",
     "output_type": "stream",
     "text": [
      "777655\n",
      "29149\n"
     ]
    }
   ],
   "source": [
    "# original preprocessor\n",
    "pp = Preprocessor(years, include_classes=classes_30_cf, strategy = HP.pp_strategy, train_eg_per_class=HP.number_of_images_per_class, maxN = HP.maxN, \n",
    "    minimum =  HP.minimum, transformations = HP.transformations)\n",
    "\n",
    "pp.create_datasets(HP.data_splits)\n",
    "\n",
    "trainLoader = pp.get_loaders('train', HP.batch_size)\n",
    "validLoader = pp.get_loaders('validation', HP.batch_size)\n",
    "testLoader = pp.get_loaders('test', HP.batch_size)"
   ]
  },
  {
   "cell_type": "code",
   "execution_count": 4,
   "metadata": {},
   "outputs": [
    {
     "name": "stderr",
     "output_type": "stream",
     "text": [
      "/home/czm/saad/urfp-hab-plankton/models/vgg_TL.py:112: UserWarning: Implicit dimension choice for softmax has been deprecated. Change the call to include dim=X as an argument.\n",
      "  results = self.softmax(self.classifier(x))\n"
     ]
    },
    {
     "name": "stdout",
     "output_type": "stream",
     "text": [
      "17419\n",
      "5805\n",
      "5794\n"
     ]
    }
   ],
   "source": [
    "# confident images Preprocessor\n",
    "\n",
    "path_to_statedict = \"models/GoogleNet_5.3-13.31.pth\"\n",
    "model=GoogleNet(v=5.3)\n",
    "if \".tar\" in path_to_statedict:\n",
    "    model = load_partial_model(model, path_to_statedict)\n",
    "else:\n",
    "    model = load_full_model(model, path_to_statedict)\n",
    "\n",
    "trainer = Trainer(HP_version = 13.31, epochs = 0, loss_fn = HP.loss_function, optimizer = HP.optimizer)\n",
    "\n",
    "\n",
    "    \n",
    "test_pred, test_target, test_fnames, test_extras = trainer.test(model, testLoader, return_softmax=True, return_confs=True)\n",
    "test_fnames, test_dropped_fnames = test_fnames\n",
    "valid_pred, valid_target, valid_fnames, _ = trainer.test(model, validLoader)\n",
    "valid_fnames, valid_dropped_fnames = valid_fnames\n",
    "train_pred, train_target, train_fnames, _ = trainer.test(model, trainLoader)\n",
    "train_fnames, train_dropped_fnames = train_fnames\n",
    "\n",
    "cf_train_pp = Preprocessor(strategy=\"confident_images\", conf_fnames=train_fnames)\n",
    "cf_valid_pp = Preprocessor(strategy=\"confident_images\", conf_fnames=valid_fnames)\n",
    "cf_test_pp = Preprocessor(strategy=\"confident_images\", conf_fnames=test_fnames)"
   ]
  },
  {
   "cell_type": "code",
   "execution_count": null,
   "metadata": {},
   "outputs": [],
   "source": []
  },
  {
   "cell_type": "code",
   "execution_count": 6,
   "metadata": {},
   "outputs": [],
   "source": [
    "headers = ['classes', 'og_pp', 'conf_pp-train','conf_pp-valid','conf_pp-test']\n",
    "data = []\n",
    "for c in classes_30_cf:\n",
    "    data.append([c, pp.label_to_onehotInd(c), cf_train_pp.label_to_onehotInd(c), cf_valid_pp.label_to_onehotInd(c), cf_test_pp.label_to_onehotInd(c)])"
   ]
  },
  {
   "cell_type": "code",
   "execution_count": 12,
   "metadata": {},
   "outputs": [
    {
     "name": "stdout",
     "output_type": "stream",
     "text": [
      "classes                   og_pp    conf_pp-train    conf_pp-valid    conf_pp-test\n",
      "----------------------  -------  ---------------  ---------------  --------------\n",
      "Asterionellopsis              0                0                0               0\n",
      "bad                          25               25               25              25\n",
      "Chaetoceros                   1                1                1               1\n",
      "Ciliate_mix                   3                3                3               3\n",
      "Corethron                     4                4                4               4\n",
      "Cylindrotheca                 5                5                5               5\n",
      "Dictyocha                     6                6                6               6\n",
      "dino30                       27               27               27              27\n",
      "detritus                     26               26               26              26\n",
      "Chaetoceros_flagellate        2                2                2               2\n",
      "Dinobryon                     7                7                7               7\n",
      "Ditylum                       8                8                8               8\n",
      "Eucampia                      9                9                9               9\n",
      "flagellate_sp3               28               28               28              28\n",
      "Guinardia_delicatula         10               10               10              10\n",
      "Guinardia_flaccida           11               11               11              11\n",
      "Guinardia_striata            12               12               12              12\n",
      "Heterocapsa_triquetra        13               13               13              13\n",
      "Laboea_strobila              14               14               14              14\n",
      "Leptocylindrus               15               15               15              15\n",
      "pennate                      29               29               29              29\n",
      "Phaeocystis                  16               16               16              16\n",
      "Pleurosigma                  17               17               17              17\n",
      "Prorocentrum                 18               18               18              18\n",
      "Pseudonitzschia              19               19               19              19\n",
      "Skeletonema                  20               20               20              20\n",
      "Thalassionema                21               21               21              21\n",
      "Thalassiosira                22               22               22              22\n",
      "Thalassiosira_dirty          23               23               23              23\n",
      "Tintinnid                    24               24               24              24\n"
     ]
    }
   ],
   "source": [
    "print(tabulate.tabulate(data,headers))"
   ]
  },
  {
   "cell_type": "code",
   "execution_count": null,
   "metadata": {},
   "outputs": [],
   "source": []
  }
 ],
 "metadata": {
  "kernelspec": {
   "display_name": "Python 3",
   "language": "python",
   "name": "python3"
  },
  "language_info": {
   "codemirror_mode": {
    "name": "ipython",
    "version": 3
   },
   "file_extension": ".py",
   "mimetype": "text/x-python",
   "name": "python",
   "nbconvert_exporter": "python",
   "pygments_lexer": "ipython3",
   "version": "3.7.5"
  }
 },
 "nbformat": 4,
 "nbformat_minor": 2
}

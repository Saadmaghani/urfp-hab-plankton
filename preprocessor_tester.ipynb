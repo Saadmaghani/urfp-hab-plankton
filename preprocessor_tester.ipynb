{
 "cells": [
  {
   "cell_type": "code",
   "execution_count": 1,
   "metadata": {},
   "outputs": [],
   "source": [
    "import torch\n",
    "from preprocessing import Preprocessor\n",
    "from training import Trainer, load_partial_model, load_full_model\n",
    "from metrics import Metrics\n",
    "import torch.nn as nn\n",
    "import torch.optim as optim\n",
    "#from models.triple_arch import N_Parallel_Models\n",
    "from models.vgg_TL import GoogleNet\n",
    "#from models.autoencoders import Simple_AE, CNN_VAE\n",
    "from configuration import Hyperparameters as HP\n",
    "import json\n",
    "import math\n",
    "import tabulate\n",
    "\n",
    "years = [str(y) for y in range(2006, 2015)]\n",
    "\n",
    "classes_30_cf = [\"Asterionellopsis\", \"bad\", \"Chaetoceros\", \"Ciliate_mix\", \"Corethron\", \"Cylindrotheca\", \"Dictyocha\",\"dino30\", \"detritus\", \n",
    "    \"Chaetoceros_flagellate\", \"Dinobryon\", \"Ditylum\", \"Eucampia\", \"flagellate_sp3\", \"Guinardia_delicatula\", \"Guinardia_flaccida\", \"Guinardia_striata\",\n",
    "    \"Heterocapsa_triquetra\", \"Laboea_strobila\", \"Leptocylindrus\",\"pennate\", \"Phaeocystis\", \"Pleurosigma\", \"Prorocentrum\", \"Pseudonitzschia\", \n",
    "    \"Skeletonema\", \"Thalassionema\", \"Thalassiosira\", \"Thalassiosira_dirty\", \"Tintinnid\"]\n"
   ]
  },
  {
   "cell_type": "code",
   "execution_count": 2,
   "metadata": {},
   "outputs": [
    {
     "name": "stdout",
     "output_type": "stream",
     "text": [
      "777655\n",
      "29149\n"
     ]
    }
   ],
   "source": [
    "pp = Preprocessor(years, include_classes=classes_30_cf, strategy = HP.pp_strategy, train_eg_per_class=HP.number_of_images_per_class, maxN = HP.maxN, \n",
    "    minimum =  HP.minimum, transformations = HP.transformations)\n"
   ]
  },
  {
   "cell_type": "code",
   "execution_count": 3,
   "metadata": {},
   "outputs": [],
   "source": [
    "headers = ['classes', 'og_pp onehot index', 'conf_pp onehot index']\n",
    "data = []\n",
    "for c in classes_30_cf:\n",
    "    data.append([c, pp.label_to_onehotInd(c), 0])"
   ]
  },
  {
   "cell_type": "code",
   "execution_count": 4,
   "metadata": {},
   "outputs": [
    {
     "data": {
      "text/plain": [
       "[['Asterionellopsis', 0, 0],\n",
       " ['bad', 25, 0],\n",
       " ['Chaetoceros', 1, 0],\n",
       " ['Ciliate_mix', 3, 0],\n",
       " ['Corethron', 4, 0],\n",
       " ['Cylindrotheca', 5, 0],\n",
       " ['Dictyocha', 6, 0],\n",
       " ['dino30', 27, 0],\n",
       " ['detritus', 26, 0],\n",
       " ['Chaetoceros_flagellate', 2, 0],\n",
       " ['Dinobryon', 7, 0],\n",
       " ['Ditylum', 8, 0],\n",
       " ['Eucampia', 9, 0],\n",
       " ['flagellate_sp3', 28, 0],\n",
       " ['Guinardia_delicatula', 10, 0],\n",
       " ['Guinardia_flaccida', 11, 0],\n",
       " ['Guinardia_striata', 12, 0],\n",
       " ['Heterocapsa_triquetra', 13, 0],\n",
       " ['Laboea_strobila', 14, 0],\n",
       " ['Leptocylindrus', 15, 0],\n",
       " ['pennate', 29, 0],\n",
       " ['Phaeocystis', 16, 0],\n",
       " ['Pleurosigma', 17, 0],\n",
       " ['Prorocentrum', 18, 0],\n",
       " ['Pseudonitzschia', 19, 0],\n",
       " ['Skeletonema', 20, 0],\n",
       " ['Thalassionema', 21, 0],\n",
       " ['Thalassiosira', 22, 0],\n",
       " ['Thalassiosira_dirty', 23, 0],\n",
       " ['Tintinnid', 24, 0]]"
      ]
     },
     "execution_count": 4,
     "metadata": {},
     "output_type": "execute_result"
    }
   ],
   "source": [
    "data"
   ]
  },
  {
   "cell_type": "code",
   "execution_count": null,
   "metadata": {},
   "outputs": [],
   "source": [
    "t"
   ]
  }
 ],
 "metadata": {
  "kernelspec": {
   "display_name": "Python 3",
   "language": "python",
   "name": "python3"
  },
  "language_info": {
   "codemirror_mode": {
    "name": "ipython",
    "version": 3
   },
   "file_extension": ".py",
   "mimetype": "text/x-python",
   "name": "python",
   "nbconvert_exporter": "python",
   "pygments_lexer": "ipython3",
   "version": "3.7.5"
  }
 },
 "nbformat": 4,
 "nbformat_minor": 2
}
